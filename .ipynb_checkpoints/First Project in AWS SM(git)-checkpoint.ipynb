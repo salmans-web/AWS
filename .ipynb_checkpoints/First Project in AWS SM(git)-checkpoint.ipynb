{
 "cells": [
  {
   "cell_type": "markdown",
   "id": "22614034",
   "metadata": {},
   "source": [
    "# Importing Important Libraries"
   ]
  },
  {
   "cell_type": "markdown",
   "id": "33b1aaaa",
   "metadata": {},
   "source": [
    "### Steps to be followed\n",
    "\n",
    "1) Importing necessary libraries \n",
    "2) Creating S3 Bucket\n",
    "3) Mapping Train and Test data in S3\n",
    "4) Mapping the path of model in S3\n"
   ]
  },
  {
   "cell_type": "code",
   "execution_count": 1,
   "id": "1fee4407",
   "metadata": {},
   "outputs": [
    {
     "name": "stdout",
     "output_type": "stream",
     "text": [
      "sagemaker.config INFO - Not applying SDK defaults from location: /etc/xdg/sagemaker/config.yaml\n",
      "sagemaker.config INFO - Not applying SDK defaults from location: /home/ec2-user/.config/sagemaker/config.yaml\n"
     ]
    }
   ],
   "source": [
    "import sagemaker #we are using sager because in this project we are going to use the inbuild algorithms which are present in AWS Sagemaker(eg : - XGBoost)\n",
    "import boto3 #whenever working with sage make you've to import boto3 by using boto3 we can also read s3 bucket from local python environment if it is public\n",
    "from sagemaker.amazon.amazon_estimator import get_image_uri #we'll be downloading an image container which has the whole xgboost inbuilt algorithm that whole thing can be download using that get_image_uri library\n",
    "from sagemaker.session import s3_input, Session #ss3_input and Session are the functions we are importing to configure input data channels from Amazon S3 (Simple Storage Service) for training a machine learning model on SageMaker and to interact with various SageMaker resources, such as creating training jobs, deploying models, managing endpoints, etc\n",
    "import pandas"
   ]
  },
  {
   "cell_type": "markdown",
   "id": "5601dc55",
   "metadata": {},
   "source": [
    "#### Creating a S3 Bucket"
   ]
  },
  {
   "cell_type": "code",
   "execution_count": 6,
   "id": "2cb23fd9",
   "metadata": {},
   "outputs": [
    {
     "name": "stdout",
     "output_type": "stream",
     "text": [
      "us-east-1\n"
     ]
    }
   ],
   "source": [
    "bucket_name = 'projectbucket189' #assigning the name of the bucket\n",
    "my_region = boto3.session.Session().region_name #setting the region of the instance\n",
    "print(my_region)"
   ]
  },
  {
   "cell_type": "code",
   "execution_count": 7,
   "id": "88e9019c",
   "metadata": {},
   "outputs": [
    {
     "name": "stdout",
     "output_type": "stream",
     "text": [
      "S3 Bucket created successfully\n"
     ]
    }
   ],
   "source": [
    "# Now creating an S3 bucket with help of code\n",
    "\n",
    "# Initialize an S3 resource\n",
    "s3 = boto3.resource(\"s3\")\n",
    "# Initialize an S3 client with a specific region\n",
    "s3 = boto3.client('s3', region_name='us-east-1')\n",
    "try: \n",
    "     # Check if the specified region is 'us-east-1'\n",
    "    if my_region == 'us-east-1':\n",
    "        # Attempt to create an S3 bucket\n",
    "        s3.create_bucket(Bucket=bucket_name)\n",
    "    # If no exception occurred, print success message\n",
    "    print('S3 Bucket created successfully')\n",
    "except Exception as e :\n",
    "    # If an exception occurred during bucket creation, print the error message\n",
    "    print('s3 error: ', e)\n",
    "        "
   ]
  },
  {
   "cell_type": "code",
   "execution_count": 8,
   "id": "d339c38c",
   "metadata": {},
   "outputs": [
    {
     "name": "stdout",
     "output_type": "stream",
     "text": [
      "s3://projectbucket189/xgboost-as-a-built-in-algo/output\n"
     ]
    }
   ],
   "source": [
    "# Setting an output path where our model will be saved once we train it \n",
    "\n",
    "# using the sagemaker we are using the xgboost built in alog\n",
    "prefix = 'xgboost-as-a-built-in-algo'\n",
    "#using string formatting we are setting our output path in place of those 2 {}'s in first{} our bucket name will be placed and in the second {} our prefix which is xgboost algo\n",
    "output_path= 's3://{}/{}/output'.format(bucket_name, prefix) \n",
    "print(output_path)\n",
    "# In the output we can see our output path"
   ]
  },
  {
   "cell_type": "markdown",
   "id": "9d070fd8",
   "metadata": {},
   "source": [
    "### Downloading the dataset and storing it in our S3 bucket"
   ]
  },
  {
   "cell_type": "code",
   "execution_count": null,
   "id": "1def25c1",
   "metadata": {},
   "outputs": [],
   "source": []
  }
 ],
 "metadata": {
  "kernelspec": {
   "display_name": "conda_python3",
   "language": "python",
   "name": "conda_python3"
  },
  "language_info": {
   "codemirror_mode": {
    "name": "ipython",
    "version": 3
   },
   "file_extension": ".py",
   "mimetype": "text/x-python",
   "name": "python",
   "nbconvert_exporter": "python",
   "pygments_lexer": "ipython3",
   "version": "3.10.13"
  }
 },
 "nbformat": 4,
 "nbformat_minor": 5
}
