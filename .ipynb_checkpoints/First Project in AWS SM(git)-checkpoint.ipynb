{
 "cells": [
  {
   "cell_type": "markdown",
   "id": "22614034",
   "metadata": {},
   "source": [
    "# Importing Important Libraries"
   ]
  },
  {
   "cell_type": "markdown",
   "id": "33b1aaaa",
   "metadata": {},
   "source": [
    "### Steps to be followed\n",
    "\n",
    "1) Importing necessary libraries \n",
    "2) Creating S3 Bucket\n",
    "3) Mapping Train and Test data in S3\n",
    "4) Mapping the path of model in S3\n"
   ]
  },
  {
   "cell_type": "code",
   "execution_count": 19,
   "id": "8615c557",
   "metadata": {},
   "outputs": [
    {
     "name": "stdout",
     "output_type": "stream",
     "text": [
      "Requirement already satisfied: sagemaker in /home/ec2-user/anaconda3/envs/python3/lib/python3.10/site-packages (2.210.0)\n",
      "Collecting sagemaker\n",
      "  Downloading sagemaker-2.212.0-py3-none-any.whl.metadata (14 kB)\n",
      "Requirement already satisfied: attrs<24,>=23.1.0 in /home/ec2-user/anaconda3/envs/python3/lib/python3.10/site-packages (from sagemaker) (23.2.0)\n",
      "Requirement already satisfied: boto3<2.0,>=1.33.3 in /home/ec2-user/anaconda3/envs/python3/lib/python3.10/site-packages (from sagemaker) (1.34.55)\n",
      "Requirement already satisfied: cloudpickle==2.2.1 in /home/ec2-user/anaconda3/envs/python3/lib/python3.10/site-packages (from sagemaker) (2.2.1)\n",
      "Requirement already satisfied: google-pasta in /home/ec2-user/anaconda3/envs/python3/lib/python3.10/site-packages (from sagemaker) (0.2.0)\n",
      "Requirement already satisfied: numpy<2.0,>=1.9.0 in /home/ec2-user/anaconda3/envs/python3/lib/python3.10/site-packages (from sagemaker) (1.22.4)\n",
      "Requirement already satisfied: protobuf<5.0,>=3.12 in /home/ec2-user/anaconda3/envs/python3/lib/python3.10/site-packages (from sagemaker) (4.25.3)\n",
      "Requirement already satisfied: smdebug-rulesconfig==1.0.1 in /home/ec2-user/anaconda3/envs/python3/lib/python3.10/site-packages (from sagemaker) (1.0.1)\n",
      "Requirement already satisfied: importlib-metadata<7.0,>=1.4.0 in /home/ec2-user/anaconda3/envs/python3/lib/python3.10/site-packages (from sagemaker) (6.11.0)\n",
      "Requirement already satisfied: packaging>=20.0 in /home/ec2-user/anaconda3/envs/python3/lib/python3.10/site-packages (from sagemaker) (21.3)\n",
      "Requirement already satisfied: pandas in /home/ec2-user/anaconda3/envs/python3/lib/python3.10/site-packages (from sagemaker) (2.2.0)\n",
      "Requirement already satisfied: pathos in /home/ec2-user/anaconda3/envs/python3/lib/python3.10/site-packages (from sagemaker) (0.3.2)\n",
      "Requirement already satisfied: schema in /home/ec2-user/anaconda3/envs/python3/lib/python3.10/site-packages (from sagemaker) (0.7.5)\n",
      "Requirement already satisfied: PyYAML~=6.0 in /home/ec2-user/anaconda3/envs/python3/lib/python3.10/site-packages (from sagemaker) (6.0.1)\n",
      "Requirement already satisfied: jsonschema in /home/ec2-user/anaconda3/envs/python3/lib/python3.10/site-packages (from sagemaker) (4.21.1)\n",
      "Requirement already satisfied: platformdirs in /home/ec2-user/anaconda3/envs/python3/lib/python3.10/site-packages (from sagemaker) (4.2.0)\n",
      "Requirement already satisfied: tblib<3,>=1.7.0 in /home/ec2-user/anaconda3/envs/python3/lib/python3.10/site-packages (from sagemaker) (2.0.0)\n",
      "Requirement already satisfied: urllib3<3.0.0,>=1.26.8 in /home/ec2-user/anaconda3/envs/python3/lib/python3.10/site-packages (from sagemaker) (1.26.18)\n",
      "Requirement already satisfied: requests in /home/ec2-user/anaconda3/envs/python3/lib/python3.10/site-packages (from sagemaker) (2.31.0)\n",
      "Requirement already satisfied: docker in /home/ec2-user/anaconda3/envs/python3/lib/python3.10/site-packages (from sagemaker) (6.1.3)\n",
      "Requirement already satisfied: tqdm in /home/ec2-user/anaconda3/envs/python3/lib/python3.10/site-packages (from sagemaker) (4.66.1)\n",
      "Requirement already satisfied: psutil in /home/ec2-user/anaconda3/envs/python3/lib/python3.10/site-packages (from sagemaker) (5.9.8)\n",
      "Requirement already satisfied: botocore<1.35.0,>=1.34.55 in /home/ec2-user/anaconda3/envs/python3/lib/python3.10/site-packages (from boto3<2.0,>=1.33.3->sagemaker) (1.34.55)\n",
      "Requirement already satisfied: jmespath<2.0.0,>=0.7.1 in /home/ec2-user/anaconda3/envs/python3/lib/python3.10/site-packages (from boto3<2.0,>=1.33.3->sagemaker) (1.0.1)\n",
      "Requirement already satisfied: s3transfer<0.11.0,>=0.10.0 in /home/ec2-user/anaconda3/envs/python3/lib/python3.10/site-packages (from boto3<2.0,>=1.33.3->sagemaker) (0.10.0)\n",
      "Requirement already satisfied: zipp>=0.5 in /home/ec2-user/anaconda3/envs/python3/lib/python3.10/site-packages (from importlib-metadata<7.0,>=1.4.0->sagemaker) (3.17.0)\n",
      "Requirement already satisfied: pyparsing!=3.0.5,>=2.0.2 in /home/ec2-user/anaconda3/envs/python3/lib/python3.10/site-packages (from packaging>=20.0->sagemaker) (3.1.1)\n",
      "Requirement already satisfied: websocket-client>=0.32.0 in /home/ec2-user/anaconda3/envs/python3/lib/python3.10/site-packages (from docker->sagemaker) (1.7.0)\n",
      "Requirement already satisfied: charset-normalizer<4,>=2 in /home/ec2-user/anaconda3/envs/python3/lib/python3.10/site-packages (from requests->sagemaker) (3.3.2)\n",
      "Requirement already satisfied: idna<4,>=2.5 in /home/ec2-user/anaconda3/envs/python3/lib/python3.10/site-packages (from requests->sagemaker) (3.6)\n",
      "Requirement already satisfied: certifi>=2017.4.17 in /home/ec2-user/anaconda3/envs/python3/lib/python3.10/site-packages (from requests->sagemaker) (2024.2.2)\n",
      "Requirement already satisfied: six in /home/ec2-user/anaconda3/envs/python3/lib/python3.10/site-packages (from google-pasta->sagemaker) (1.16.0)\n",
      "Requirement already satisfied: jsonschema-specifications>=2023.03.6 in /home/ec2-user/anaconda3/envs/python3/lib/python3.10/site-packages (from jsonschema->sagemaker) (2023.12.1)\n",
      "Requirement already satisfied: referencing>=0.28.4 in /home/ec2-user/anaconda3/envs/python3/lib/python3.10/site-packages (from jsonschema->sagemaker) (0.33.0)\n",
      "Requirement already satisfied: rpds-py>=0.7.1 in /home/ec2-user/anaconda3/envs/python3/lib/python3.10/site-packages (from jsonschema->sagemaker) (0.17.1)\n",
      "Requirement already satisfied: python-dateutil>=2.8.2 in /home/ec2-user/anaconda3/envs/python3/lib/python3.10/site-packages (from pandas->sagemaker) (2.8.2)\n",
      "Requirement already satisfied: pytz>=2020.1 in /home/ec2-user/anaconda3/envs/python3/lib/python3.10/site-packages (from pandas->sagemaker) (2023.4)\n",
      "Requirement already satisfied: tzdata>=2022.7 in /home/ec2-user/anaconda3/envs/python3/lib/python3.10/site-packages (from pandas->sagemaker) (2023.4)\n",
      "Requirement already satisfied: ppft>=1.7.6.8 in /home/ec2-user/anaconda3/envs/python3/lib/python3.10/site-packages (from pathos->sagemaker) (1.7.6.8)\n",
      "Requirement already satisfied: dill>=0.3.8 in /home/ec2-user/anaconda3/envs/python3/lib/python3.10/site-packages (from pathos->sagemaker) (0.3.8)\n",
      "Requirement already satisfied: pox>=0.3.4 in /home/ec2-user/anaconda3/envs/python3/lib/python3.10/site-packages (from pathos->sagemaker) (0.3.4)\n",
      "Requirement already satisfied: multiprocess>=0.70.16 in /home/ec2-user/anaconda3/envs/python3/lib/python3.10/site-packages (from pathos->sagemaker) (0.70.16)\n",
      "Requirement already satisfied: contextlib2>=0.5.5 in /home/ec2-user/anaconda3/envs/python3/lib/python3.10/site-packages (from schema->sagemaker) (21.6.0)\n",
      "Downloading sagemaker-2.212.0-py3-none-any.whl (1.4 MB)\n",
      "\u001b[2K   \u001b[90m━━━━━━━━━━━━━━━━━━━━━━━━━━━━━━━━━━━━━━━━\u001b[0m \u001b[32m1.4/1.4 MB\u001b[0m \u001b[31m19.0 MB/s\u001b[0m eta \u001b[36m0:00:00\u001b[0m00:01\u001b[0m\n",
      "\u001b[?25hInstalling collected packages: sagemaker\n",
      "  Attempting uninstall: sagemaker\n",
      "    Found existing installation: sagemaker 2.210.0\n",
      "    Uninstalling sagemaker-2.210.0:\n",
      "      Successfully uninstalled sagemaker-2.210.0\n",
      "Successfully installed sagemaker-2.212.0\n",
      "Note: you may need to restart the kernel to use updated packages.\n"
     ]
    }
   ],
   "source": [
    "pip install -U sagemaker"
   ]
  },
  {
   "cell_type": "code",
   "execution_count": 10,
   "id": "1fee4407",
   "metadata": {},
   "outputs": [
    {
     "name": "stdout",
     "output_type": "stream",
     "text": [
      "sagemaker.config INFO - Not applying SDK defaults from location: /etc/xdg/sagemaker/config.yaml\n",
      "sagemaker.config INFO - Not applying SDK defaults from location: /home/ec2-user/.config/sagemaker/config.yaml\n"
     ]
    }
   ],
   "source": [
    "import sagemaker #we are using sager because in this project we are going to use the inbuild algorithms which are present in AWS Sagemaker(eg : - XGBoost)\n",
    "import boto3 #whenever working with sage make you've to import boto3 by using boto3 we can also read s3 bucket from local python environment if it is public\n",
    "from sagemaker.amazon.amazon_estimator import get_image_uri #we'll be downloading an image container which has the whole xgboost inbuilt algorithm that whole thing can be download using that get_image_uri library\n",
    "from sagemaker.session import s3_input, Session #ss3_input and Session are the functions we are importing to configure input data channels from Amazon S3 (Simple Storage Service) for training a machine learning model on SageMaker and to interact with various SageMaker resources, such as creating training jobs, deploying models, managing endpoints, etc\n",
    "import pandas"
   ]
  },
  {
   "cell_type": "markdown",
   "id": "5601dc55",
   "metadata": {},
   "source": [
    "## Creating a S3 Bucket"
   ]
  },
  {
   "cell_type": "code",
   "execution_count": 12,
   "id": "2cb23fd9",
   "metadata": {},
   "outputs": [
    {
     "name": "stdout",
     "output_type": "stream",
     "text": [
      "us-east-1\n"
     ]
    }
   ],
   "source": [
    "bucket_name = 'projectbucket189' #assigning the name of the bucket\n",
    "my_region = boto3.session.Session().region_name #setting the region of the instance\n",
    "print(my_region)"
   ]
  },
  {
   "cell_type": "code",
   "execution_count": 7,
   "id": "88e9019c",
   "metadata": {},
   "outputs": [
    {
     "name": "stdout",
     "output_type": "stream",
     "text": [
      "S3 Bucket created successfully\n"
     ]
    }
   ],
   "source": [
    "# Now creating an S3 bucket with help of code\n",
    "\n",
    "# Initialize an S3 resource\n",
    "s3 = boto3.resource(\"s3\")\n",
    "# Initialize an S3 client with a specific region\n",
    "s3 = boto3.client('s3', region_name='us-east-1')\n",
    "try: \n",
    "     # Check if the specified region is 'us-east-1'\n",
    "    if my_region == 'us-east-1':\n",
    "        # Attempt to create an S3 bucket\n",
    "        s3.create_bucket(Bucket=bucket_name)\n",
    "    # If no exception occurred, print success message\n",
    "    print('S3 Bucket created successfully')\n",
    "except Exception as e :\n",
    "    # If an exception occurred during bucket creation, print the error message\n",
    "    print('s3 error: ', e)\n",
    "        "
   ]
  },
  {
   "cell_type": "code",
   "execution_count": 14,
   "id": "b5a4b845",
   "metadata": {},
   "outputs": [
    {
     "name": "stdout",
     "output_type": "stream",
     "text": [
      "s3://projectbucket189/xgboost-as-a-built-in-algo/output\n"
     ]
    }
   ],
   "source": [
    "# Setting an output path where our model will be saved once we train it \n",
    "\n",
    "# using the sagemaker we are using the xgboost built in alog\n",
    "prefix = 'xgboost-as-a-built-in-algo'\n",
    "#using string formatting we are setting our output path in place of those 2 {}'s in first{} our bucket name will be placed and in the second {} our prefix which is xgboost algo\n",
    "output_path= 's3://{}/{}/output'.format(bucket_name, prefix) \n",
    "print(output_path)\n",
    "# In the output we can see our output path"
   ]
  },
  {
   "cell_type": "markdown",
   "id": "8b609ded",
   "metadata": {},
   "source": [
    "## Downloading the dataset and storing it in our S3 bucket"
   ]
  },
  {
   "cell_type": "code",
   "execution_count": 1,
   "id": "09771ec5",
   "metadata": {},
   "outputs": [
    {
     "name": "stdout",
     "output_type": "stream",
     "text": [
      "Success: downloaded bank_clean.csv.\n",
      "Success : Data loaded into dataframe. \n"
     ]
    }
   ],
   "source": [
    "import pandas as pd\n",
    "# with the help of url lib we are downloading out dataset \n",
    "import urllib\n",
    "try:\n",
    "    urllib.request.urlretrieve (\"https://d1.awsstatic.com/tmt/build-train-deploy-machine-learning-model-sagemaker/bank_clean.27f01fbbdf43271788427f3682996ae29ceca05d.csv\",\"bank_clean.csv\")\n",
    "    print('Success: downloaded bank_clean.csv.')\n",
    "except Exception as e:\n",
    "    print('Data load error: ' ,e)\n",
    "\n",
    "try:\n",
    "#     and loading the dataset into a variable name model_data\n",
    "    model_data = pd.read_csv('./bank_clean.csv',index_col= 0)\n",
    "    print('Success : Data loaded into dataframe. ')\n",
    "except Exception as e:\n",
    "    print('Data load error: ', e)\n",
    "    "
   ]
  },
  {
   "cell_type": "markdown",
   "id": "552bdc23",
   "metadata": {},
   "source": [
    "### Dataset details :- Our Dataset is basically a cleaned dataset which states weather the customer buys the product or not (bascially it is onehot encoded)"
   ]
  },
  {
   "cell_type": "code",
   "execution_count": null,
   "id": "dc5131bc",
   "metadata": {},
   "outputs": [],
   "source": []
  },
  {
   "cell_type": "markdown",
   "id": "965f6d5e",
   "metadata": {},
   "source": [
    "## Train & test Split"
   ]
  },
  {
   "cell_type": "code",
   "execution_count": 4,
   "id": "ad37d7ef",
   "metadata": {},
   "outputs": [
    {
     "name": "stdout",
     "output_type": "stream",
     "text": [
      "(28831, 61) (12357, 61)\n"
     ]
    }
   ],
   "source": [
    "import numpy as np \n",
    "# train test split is not done as usual like we do xtrain, ytrain, xtest, ytest basically who data is divided into train_data and test_data so both of the train and test data will be consisting both dependent and independent variables \n",
    "train_data, test_data = np.split(model_data.sample(frac=1, random_state = 1729), [int(0.7* len(model_data))])\n",
    "# getting the shapes of tain and test data\n",
    "print(train_data.shape, test_data.shape)"
   ]
  },
  {
   "cell_type": "markdown",
   "id": "681eaa28",
   "metadata": {},
   "source": [
    "#### Remember :whenever we are dealing with sagemaker the dependent feature should be your first column"
   ]
  },
  {
   "cell_type": "markdown",
   "id": "206b1da2",
   "metadata": {},
   "source": [
    "## Creating & Saving seperate Train and test data into s3 Bucket"
   ]
  },
  {
   "cell_type": "code",
   "execution_count": 16,
   "id": "3a76d128",
   "metadata": {},
   "outputs": [],
   "source": [
    "# Training Data\n",
    "import os\n",
    "# from y_no and y_yes dependent feature we are taking y_yes feature and concatinating all other features and creating into a csv file\n",
    "pd.concat([train_data['y_yes'],train_data.drop(['y_no','y_yes'],axis =1)], axis =1).to_csv('train.csv',index =False , header = False) \n",
    "# uploading that train.csv file into s3 bucket\n",
    "boto3.Session().resource('s3').Bucket(bucket_name).Object(os.path.join(prefix, 'train/train.csv')).upload_file('train.csv')\n",
    "# Whenever we're training our model the data path is given from the s3 bucket for that we've to create the path\n",
    "# inorder to create the path we are using an inbuilt function of sagemaker which is sagemaker.TrainingInput \n",
    "# then we are giving the whole path of the training folder just like last time we did in setting output path \n",
    "# and the content type will be csv becoz the whole which we're uploading is a csv file\n",
    "s3_input_train = sagemaker.TrainingInput(s3_data = 's3://{}/{}/train'.format(bucket_name, prefix), content_type ='csv')"
   ]
  },
  {
   "cell_type": "code",
   "execution_count": 17,
   "id": "b333951d",
   "metadata": {},
   "outputs": [],
   "source": [
    "# Test Data\n",
    "# doing the same for the test data as well\n",
    "import os\n",
    "pd.concat([test_data['y_yes'],test_data.drop(['y_no','y_yes'],axis =1)], axis =1).to_csv('test.csv',index =False , header = False) \n",
    "boto3.Session().resource('s3').Bucket(bucket_name).Object(os.path.join(prefix, 'test/test.csv')).upload_file('test.csv')\n",
    "s3_input_test = sagemaker.TrainingInput(s3_data = 's3://{}/{}/test'.format(bucket_name, prefix), content_type ='csv')"
   ]
  },
  {
   "cell_type": "code",
   "execution_count": null,
   "id": "1b28d3ab",
   "metadata": {},
   "outputs": [],
   "source": []
  },
  {
   "cell_type": "markdown",
   "id": "40639134",
   "metadata": {},
   "source": [
    "## Building & Training ML Model (XGBoost)"
   ]
  },
  {
   "cell_type": "markdown",
   "id": "17c5ea4b",
   "metadata": {},
   "source": [
    "##### xgboost is an inbuild algorithm which is present in sagemaker\n",
    "\n",
    "#whenever we're dealing with inbuilt algorithm it will be present in the form of images or container and we need to pull that image or container into our instances/machine.\n",
    "\n",
    "Inorder to pull that we need to import a library :- get_image_uri\n",
    "And based on the region we've to pull the container"
   ]
  },
  {
   "cell_type": "markdown",
   "id": "bb0723b9",
   "metadata": {},
   "source": [
    "### Original Code"
   ]
  },
  {
   "cell_type": "code",
   "execution_count": 21,
   "id": "265699c4",
   "metadata": {},
   "outputs": [
    {
     "name": "stderr",
     "output_type": "stream",
     "text": [
      "The method get_image_uri has been renamed in sagemaker>=2.\n",
      "See: https://sagemaker.readthedocs.io/en/stable/v2.html for details.\n"
     ]
    },
    {
     "ename": "ValueError",
     "evalue": "Unsupported xgboost version: 1.0.1. You may need to upgrade your SDK version (pip install -U sagemaker) for newer xgboost versions. Supported xgboost version(s): 1, 0.90-1, 0.90-2, 1.0-1, 1.2-1, 1.2-2, 1.3-1, 1.5-1, 1.7-1, latest.",
     "output_type": "error",
     "traceback": [
      "\u001b[0;31m---------------------------------------------------------------------------\u001b[0m",
      "\u001b[0;31mValueError\u001b[0m                                Traceback (most recent call last)",
      "Cell \u001b[0;32mIn[21], line 4\u001b[0m\n\u001b[1;32m      1\u001b[0m \u001b[38;5;66;03m#This Block is for error encounter\u001b[39;00m\n\u001b[1;32m      2\u001b[0m \u001b[38;5;66;03m# this line automatically looks for the XGboost image uri and builds an XGboost container\u001b[39;00m\n\u001b[1;32m      3\u001b[0m \u001b[38;5;66;03m# specify the repo_version depending on your preference\u001b[39;00m\n\u001b[0;32m----> 4\u001b[0m container \u001b[38;5;241m=\u001b[39m\u001b[43mget_image_uri\u001b[49m\u001b[43m(\u001b[49m\u001b[43mboto3\u001b[49m\u001b[38;5;241;43m.\u001b[39;49m\u001b[43mSession\u001b[49m\u001b[43m(\u001b[49m\u001b[43m)\u001b[49m\u001b[38;5;241;43m.\u001b[39;49m\u001b[43mregion_name\u001b[49m\u001b[43m,\u001b[49m\u001b[38;5;124;43m'\u001b[39;49m\u001b[38;5;124;43mxgboost\u001b[39;49m\u001b[38;5;124;43m'\u001b[39;49m\u001b[43m,\u001b[49m\u001b[43mrepo_version\u001b[49m\u001b[38;5;241;43m=\u001b[39;49m\u001b[43m \u001b[49m\u001b[38;5;124;43m'\u001b[39;49m\u001b[38;5;124;43m1.0.1\u001b[39;49m\u001b[38;5;124;43m'\u001b[39;49m\u001b[43m)\u001b[49m\n",
      "File \u001b[0;32m~/anaconda3/envs/python3/lib/python3.10/site-packages/sagemaker/amazon/amazon_estimator.py:521\u001b[0m, in \u001b[0;36mget_image_uri\u001b[0;34m(region_name, repo_name, repo_version)\u001b[0m\n\u001b[1;32m    510\u001b[0m \u001b[38;5;250m\u001b[39m\u001b[38;5;124;03m\"\"\"Deprecated method. Please use sagemaker.image_uris.retrieve().\u001b[39;00m\n\u001b[1;32m    511\u001b[0m \n\u001b[1;32m    512\u001b[0m \u001b[38;5;124;03mArgs:\u001b[39;00m\n\u001b[0;32m   (...)\u001b[0m\n\u001b[1;32m    518\u001b[0m \u001b[38;5;124;03m    the image uri\u001b[39;00m\n\u001b[1;32m    519\u001b[0m \u001b[38;5;124;03m\"\"\"\u001b[39;00m\n\u001b[1;32m    520\u001b[0m renamed_warning(\u001b[38;5;124m\"\u001b[39m\u001b[38;5;124mThe method get_image_uri\u001b[39m\u001b[38;5;124m\"\u001b[39m)\n\u001b[0;32m--> 521\u001b[0m \u001b[38;5;28;01mreturn\u001b[39;00m \u001b[43mimage_uris\u001b[49m\u001b[38;5;241;43m.\u001b[39;49m\u001b[43mretrieve\u001b[49m\u001b[43m(\u001b[49m\n\u001b[1;32m    522\u001b[0m \u001b[43m    \u001b[49m\u001b[43mframework\u001b[49m\u001b[38;5;241;43m=\u001b[39;49m\u001b[43mrepo_name\u001b[49m\u001b[43m,\u001b[49m\n\u001b[1;32m    523\u001b[0m \u001b[43m    \u001b[49m\u001b[43mregion\u001b[49m\u001b[38;5;241;43m=\u001b[39;49m\u001b[43mregion_name\u001b[49m\u001b[43m,\u001b[49m\n\u001b[1;32m    524\u001b[0m \u001b[43m    \u001b[49m\u001b[43mversion\u001b[49m\u001b[38;5;241;43m=\u001b[39;49m\u001b[43mrepo_version\u001b[49m\u001b[43m,\u001b[49m\n\u001b[1;32m    525\u001b[0m \u001b[43m\u001b[49m\u001b[43m)\u001b[49m\n",
      "File \u001b[0;32m~/anaconda3/envs/python3/lib/python3.10/site-packages/sagemaker/workflow/utilities.py:424\u001b[0m, in \u001b[0;36moverride_pipeline_parameter_var.<locals>.wrapper\u001b[0;34m(*args, **kwargs)\u001b[0m\n\u001b[1;32m    422\u001b[0m         logger\u001b[38;5;241m.\u001b[39mwarning(warning_msg_template, arg_name, func_name, \u001b[38;5;28mtype\u001b[39m(value))\n\u001b[1;32m    423\u001b[0m         kwargs[arg_name] \u001b[38;5;241m=\u001b[39m value\u001b[38;5;241m.\u001b[39mdefault_value\n\u001b[0;32m--> 424\u001b[0m \u001b[38;5;28;01mreturn\u001b[39;00m \u001b[43mfunc\u001b[49m\u001b[43m(\u001b[49m\u001b[38;5;241;43m*\u001b[39;49m\u001b[43margs\u001b[49m\u001b[43m,\u001b[49m\u001b[43m \u001b[49m\u001b[38;5;241;43m*\u001b[39;49m\u001b[38;5;241;43m*\u001b[39;49m\u001b[43mkwargs\u001b[49m\u001b[43m)\u001b[49m\n",
      "File \u001b[0;32m~/anaconda3/envs/python3/lib/python3.10/site-packages/sagemaker/image_uris.py:180\u001b[0m, in \u001b[0;36mretrieve\u001b[0;34m(framework, region, version, py_version, instance_type, accelerator_type, image_scope, container_version, distribution, base_framework_version, training_compiler_config, model_id, model_version, tolerate_vulnerable_model, tolerate_deprecated_model, sdk_version, inference_tool, serverless_inference_config, sagemaker_session)\u001b[0m\n\u001b[1;32m    177\u001b[0m     config \u001b[38;5;241m=\u001b[39m _config_for_framework_and_scope(_framework, final_image_scope, accelerator_type)\n\u001b[1;32m    179\u001b[0m original_version \u001b[38;5;241m=\u001b[39m version\n\u001b[0;32m--> 180\u001b[0m version \u001b[38;5;241m=\u001b[39m \u001b[43m_validate_version_and_set_if_needed\u001b[49m\u001b[43m(\u001b[49m\u001b[43mversion\u001b[49m\u001b[43m,\u001b[49m\u001b[43m \u001b[49m\u001b[43mconfig\u001b[49m\u001b[43m,\u001b[49m\u001b[43m \u001b[49m\u001b[43mframework\u001b[49m\u001b[43m)\u001b[49m\n\u001b[1;32m    181\u001b[0m version_config \u001b[38;5;241m=\u001b[39m config[\u001b[38;5;124m\"\u001b[39m\u001b[38;5;124mversions\u001b[39m\u001b[38;5;124m\"\u001b[39m][_version_for_config(version, config)]\n\u001b[1;32m    183\u001b[0m \u001b[38;5;28;01mif\u001b[39;00m framework \u001b[38;5;241m==\u001b[39m HUGGING_FACE_FRAMEWORK:\n",
      "File \u001b[0;32m~/anaconda3/envs/python3/lib/python3.10/site-packages/sagemaker/image_uris.py:479\u001b[0m, in \u001b[0;36m_validate_version_and_set_if_needed\u001b[0;34m(version, config, framework)\u001b[0m\n\u001b[1;32m    471\u001b[0m \u001b[38;5;28;01mif\u001b[39;00m version \u001b[38;5;129;01mis\u001b[39;00m \u001b[38;5;28;01mNone\u001b[39;00m \u001b[38;5;129;01mand\u001b[39;00m framework \u001b[38;5;129;01min\u001b[39;00m [\n\u001b[1;32m    472\u001b[0m     DATA_WRANGLER_FRAMEWORK,\n\u001b[1;32m    473\u001b[0m     HUGGING_FACE_LLM_FRAMEWORK,\n\u001b[1;32m    474\u001b[0m     HUGGING_FACE_LLM_NEURONX_FRAMEWORK,\n\u001b[1;32m    475\u001b[0m     STABILITYAI_FRAMEWORK,\n\u001b[1;32m    476\u001b[0m ]:\n\u001b[1;32m    477\u001b[0m     version \u001b[38;5;241m=\u001b[39m _get_latest_versions(available_versions)\n\u001b[0;32m--> 479\u001b[0m \u001b[43m_validate_arg\u001b[49m\u001b[43m(\u001b[49m\u001b[43mversion\u001b[49m\u001b[43m,\u001b[49m\u001b[43m \u001b[49m\u001b[43mavailable_versions\u001b[49m\u001b[43m \u001b[49m\u001b[38;5;241;43m+\u001b[39;49m\u001b[43m \u001b[49m\u001b[43maliased_versions\u001b[49m\u001b[43m,\u001b[49m\u001b[43m \u001b[49m\u001b[38;5;124;43m\"\u001b[39;49m\u001b[38;5;132;43;01m{}\u001b[39;49;00m\u001b[38;5;124;43m version\u001b[39;49m\u001b[38;5;124;43m\"\u001b[39;49m\u001b[38;5;241;43m.\u001b[39;49m\u001b[43mformat\u001b[49m\u001b[43m(\u001b[49m\u001b[43mframework\u001b[49m\u001b[43m)\u001b[49m\u001b[43m)\u001b[49m\n\u001b[1;32m    480\u001b[0m \u001b[38;5;28;01mreturn\u001b[39;00m version\n",
      "File \u001b[0;32m~/anaconda3/envs/python3/lib/python3.10/site-packages/sagemaker/image_uris.py:591\u001b[0m, in \u001b[0;36m_validate_arg\u001b[0;34m(arg, available_options, arg_name)\u001b[0m\n\u001b[1;32m    589\u001b[0m \u001b[38;5;250m\u001b[39m\u001b[38;5;124;03m\"\"\"Checks if the arg is in the available options, and raises a ``ValueError`` if not.\"\"\"\u001b[39;00m\n\u001b[1;32m    590\u001b[0m \u001b[38;5;28;01mif\u001b[39;00m arg \u001b[38;5;129;01mnot\u001b[39;00m \u001b[38;5;129;01min\u001b[39;00m available_options:\n\u001b[0;32m--> 591\u001b[0m     \u001b[38;5;28;01mraise\u001b[39;00m \u001b[38;5;167;01mValueError\u001b[39;00m(\n\u001b[1;32m    592\u001b[0m         \u001b[38;5;124m\"\u001b[39m\u001b[38;5;124mUnsupported \u001b[39m\u001b[38;5;132;01m{arg_name}\u001b[39;00m\u001b[38;5;124m: \u001b[39m\u001b[38;5;132;01m{arg}\u001b[39;00m\u001b[38;5;124m. You may need to upgrade your SDK version \u001b[39m\u001b[38;5;124m\"\u001b[39m\n\u001b[1;32m    593\u001b[0m         \u001b[38;5;124m\"\u001b[39m\u001b[38;5;124m(pip install -U sagemaker) for newer \u001b[39m\u001b[38;5;132;01m{arg_name}\u001b[39;00m\u001b[38;5;124ms. Supported \u001b[39m\u001b[38;5;132;01m{arg_name}\u001b[39;00m\u001b[38;5;124m(s): \u001b[39m\u001b[38;5;124m\"\u001b[39m\n\u001b[1;32m    594\u001b[0m         \u001b[38;5;124m\"\u001b[39m\u001b[38;5;132;01m{options}\u001b[39;00m\u001b[38;5;124m.\u001b[39m\u001b[38;5;124m\"\u001b[39m\u001b[38;5;241m.\u001b[39mformat(arg_name\u001b[38;5;241m=\u001b[39marg_name, arg\u001b[38;5;241m=\u001b[39marg, options\u001b[38;5;241m=\u001b[39m\u001b[38;5;124m\"\u001b[39m\u001b[38;5;124m, \u001b[39m\u001b[38;5;124m\"\u001b[39m\u001b[38;5;241m.\u001b[39mjoin(available_options))\n\u001b[1;32m    595\u001b[0m     )\n",
      "\u001b[0;31mValueError\u001b[0m: Unsupported xgboost version: 1.0.1. You may need to upgrade your SDK version (pip install -U sagemaker) for newer xgboost versions. Supported xgboost version(s): 1, 0.90-1, 0.90-2, 1.0-1, 1.2-1, 1.2-2, 1.3-1, 1.5-1, 1.7-1, latest."
     ]
    }
   ],
   "source": [
    "\n",
    "#This Block is for error encounter\n",
    "# this line automatically looks for the XGboost image uri and builds an XGboost container\n",
    "# specify the repo_version depending on your preference\n",
    "container =get_image_uri(boto3.Session().region_name,'xgboost',repo_version= '1.0.1')"
   ]
  },
  {
   "cell_type": "markdown",
   "id": "da5a1601",
   "metadata": {},
   "source": [
    "### Updated code with the latest function of sagemaker and verison"
   ]
  },
  {
   "cell_type": "code",
   "execution_count": 27,
   "id": "0c682618",
   "metadata": {},
   "outputs": [],
   "source": [
    "\n",
    "container = sagemaker.image_uris.retrieve(\n",
    "    region=boto3.Session().region_name,\n",
    "    framework='xgboost',\n",
    "    version='1.7-1'\n",
    ")"
   ]
  },
  {
   "cell_type": "markdown",
   "id": "bd8ee0f0",
   "metadata": {},
   "source": [
    "## Initializing Hyperparameters"
   ]
  },
  {
   "cell_type": "markdown",
   "id": "342d4913",
   "metadata": {},
   "source": [
    "#### hyperparameter tuning or the runing you should not do in sagmaker the reason is that it will take more time and increase your billing hours"
   ]
  },
  {
   "cell_type": "code",
   "execution_count": 28,
   "id": "48e5fad2",
   "metadata": {},
   "outputs": [],
   "source": [
    "# tried and defined those parameters by the instructor\n",
    "# \"objective\":\"binary:logistic\" it is binary logistic bcoz it is a binary classification algorithm and if it was multiclass then all the values may change with repect to the data\n",
    "hyperparameters = {\n",
    "    \"max_depth\": \"5\",\n",
    "    \"eta\":\"0.2\",\n",
    "    \"gamma\":\"4\",\n",
    "    \"min_child_weight\":\"6\",\n",
    "    \"subsample\":\"0.7\",\n",
    "    \"objective\":\"binary:logistic\",\n",
    "}"
   ]
  },
  {
   "cell_type": "code",
   "execution_count": null,
   "id": "e7b53de3",
   "metadata": {},
   "outputs": [],
   "source": []
  },
  {
   "cell_type": "markdown",
   "id": "c2e5af49",
   "metadata": {},
   "source": [
    "## Constructing a Sagemaker estimator that calls the XGBoost-container"
   ]
  },
  {
   "cell_type": "code",
   "execution_count": null,
   "id": "1a070b20",
   "metadata": {},
   "outputs": [],
   "source": [
    "# estimator = sagemaker.estimator.Estimator(image_name = container,\n",
    "#                                          hyperparameters = hyperparameters,\n",
    "#                                          roles= sagemaker.get_execution_role(),\n",
    "#                                          train_instance_count = 1,\n",
    "#                                          train_instance_type = 'ml.m5.2xlarge',\n",
    "#                                          train_volume_size =5 , #5gb\n",
    "#                                          output_path= output_path,\n",
    "#                                          train_use_spot_instances= True,\n",
    "#                                          train_max_run =300,\n",
    "#                                          train_max_wait =600)"
   ]
  }
 ],
 "metadata": {
  "kernelspec": {
   "display_name": "conda_python3",
   "language": "python",
   "name": "conda_python3"
  },
  "language_info": {
   "codemirror_mode": {
    "name": "ipython",
    "version": 3
   },
   "file_extension": ".py",
   "mimetype": "text/x-python",
   "name": "python",
   "nbconvert_exporter": "python",
   "pygments_lexer": "ipython3",
   "version": "3.10.13"
  }
 },
 "nbformat": 4,
 "nbformat_minor": 5
}
