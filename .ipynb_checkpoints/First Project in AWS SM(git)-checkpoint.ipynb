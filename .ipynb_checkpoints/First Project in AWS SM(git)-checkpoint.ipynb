{
 "cells": [
  {
   "cell_type": "markdown",
   "id": "22614034",
   "metadata": {},
   "source": [
    "# Importing Important Libraries"
   ]
  },
  {
   "cell_type": "markdown",
   "id": "33b1aaaa",
   "metadata": {},
   "source": [
    "### Steps to be followed\n",
    "\n",
    "1) Importing necessary libraries \n",
    "2) Creating S3 Bucket\n",
    "3) Mapping Train and Test data in S3\n",
    "4) Mapping the path of model in S3\n"
   ]
  },
  {
   "cell_type": "code",
   "execution_count": 4,
   "id": "1fee4407",
   "metadata": {},
   "outputs": [],
   "source": [
    "import sagemaker #we are using sager because in this project we are going to use the inbuild algorithms which are present in AWS Sagemaker(eg : - XGBoost)\n",
    "import boto3 #whenever working with sage make you've to import boto3 by using boto3 we can also read s3 bucket from local python environment if it is public\n",
    "from sagemaker.amazon.amazon_estimator import get_image_uri #we'll be downloading an image container which has the whole xgboost inbuilt algorithm that whole thing can be download using that get_image_uri library\n",
    "from sagemaker.session import s3_input, Session #ss3_input and Session are the functions we are importing to configure input data channels from Amazon S3 (Simple Storage Service) for training a machine learning model on SageMaker and to interact with various SageMaker resources, such as creating training jobs, deploying models, managing endpoints, etc\n",
    "import pandas"
   ]
  },
  {
   "cell_type": "markdown",
   "id": "5601dc55",
   "metadata": {},
   "source": [
    "#### Creating a S3 Bucket"
   ]
  },
  {
   "cell_type": "code",
   "execution_count": 5,
   "id": "2cb23fd9",
   "metadata": {},
   "outputs": [
    {
     "name": "stdout",
     "output_type": "stream",
     "text": [
      "us-east-2\n"
     ]
    }
   ],
   "source": [
    "bucket_name = 'projectbucket' #assigning the name of the bucket\n",
    "my_region = boto3.session.Session().region_name #setting the region of the instance\n",
    "print(my_region)"
   ]
  },
  {
   "cell_type": "code",
   "execution_count": null,
   "id": "88e9019c",
   "metadata": {},
   "outputs": [],
   "source": []
  }
 ],
 "metadata": {
  "kernelspec": {
   "display_name": "conda_python3",
   "language": "python",
   "name": "conda_python3"
  },
  "language_info": {
   "codemirror_mode": {
    "name": "ipython",
    "version": 3
   },
   "file_extension": ".py",
   "mimetype": "text/x-python",
   "name": "python",
   "nbconvert_exporter": "python",
   "pygments_lexer": "ipython3",
   "version": "3.10.13"
  }
 },
 "nbformat": 4,
 "nbformat_minor": 5
}
