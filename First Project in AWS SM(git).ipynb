{
 "cells": [
  {
   "cell_type": "markdown",
   "id": "22614034",
   "metadata": {},
   "source": [
    "# Importing Important Libraries"
   ]
  },
  {
   "cell_type": "markdown",
   "id": "33b1aaaa",
   "metadata": {},
   "source": [
    "### Steps to be followed\n",
    "\n",
    "1) Importing necessary libraries \n",
    "2) Creating S3 Bucket\n",
    "3) Mapping Train and Test data in S3\n",
    "4) Mapping the path of model in S3\n"
   ]
  },
  {
   "cell_type": "code",
   "execution_count": 1,
   "id": "1fee4407",
   "metadata": {},
   "outputs": [],
   "source": [
    "import pandas"
   ]
  },
  {
   "cell_type": "code",
   "execution_count": null,
   "id": "2b359d24",
   "metadata": {},
   "outputs": [],
   "source": []
  },
  {
   "cell_type": "code",
   "execution_count": null,
   "id": "2cb23fd9",
   "metadata": {},
   "outputs": [],
   "source": []
  }
 ],
 "metadata": {
  "kernelspec": {
   "display_name": "conda_python3",
   "language": "python",
   "name": "conda_python3"
  },
  "language_info": {
   "codemirror_mode": {
    "name": "ipython",
    "version": 3
   },
   "file_extension": ".py",
   "mimetype": "text/x-python",
   "name": "python",
   "nbconvert_exporter": "python",
   "pygments_lexer": "ipython3",
   "version": "3.10.13"
  }
 },
 "nbformat": 4,
 "nbformat_minor": 5
}
